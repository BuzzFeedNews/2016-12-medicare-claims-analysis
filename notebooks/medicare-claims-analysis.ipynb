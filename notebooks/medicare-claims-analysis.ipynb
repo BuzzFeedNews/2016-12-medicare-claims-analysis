{
 "cells": [
  {
   "cell_type": "markdown",
   "metadata": {},
   "source": [
    "# Analysis of Medicare claims — \"suicidal ideation\" and River Point lengths of stay\n",
    "\n",
    "For details on the methodology and context, please [read here](https://github.com/BuzzFeedNews/2016-12-suicidal-ideation-coding).\n",
    "\n",
    "The notebook is divided into three sections:\n",
    "\n",
    "- __Data processing__\n",
    "- __Suicidal ideation analysis__\n",
    "- __River Point analysis__"
   ]
  },
  {
   "cell_type": "markdown",
   "metadata": {},
   "source": [
    "---\n",
    "\n",
    "# Data processing"
   ]
  },
  {
   "cell_type": "markdown",
   "metadata": {},
   "source": [
    "### Load Medicare claim data\n",
    "\n",
    "BuzzFeed News obtained, through a data-sharing agreement with [ProPublica](https://propublica.org), Medicare claim data from the Centers for Medicare & Medicaid Services for the years 2009–2013. Specifically, we used Medicare’s Limited Data Set files. Due to the sensitivity of these files, CMS prohibits users from republishing the raw data, any patient-identifying information, or any aggregate statistics that refer to 10 or fewer people. We've restructured the files slightly, but a good general overviews of the fields and definitions is [here](https://www.cms.gov/Research-Statistics-Data-and-Systems/Files-for-Order/LimitedDataSets/Downloads/InpatientVersionJ2011.pdf) `(2011–present)` and [here](https://www.cms.gov/Research-Statistics-Data-and-Systems/Files-for-Order/LimitedDataSets/Downloads/SAFldsINP_DD_Pre2011.pdf) `(pre-2011)`.\n",
    "\n",
    "The main fields we're using:\n",
    "\n",
    "- `PROVIDER`: The hospital's CMS Certification Number\n",
    "- `DSYSRTKY`: A unique, numeric identifier assigned to each Medicare beneficiary\n",
    "- `ADMSN_DT`: The date of admission\n",
    "- `DSCHRGDT`: The date of discharge\n",
    "- `DRG_CD`: Classification under Medicare's “Diagnosis Related Group” system\n",
    "- `DGNSCD{1,2,...}`: Specific diagnoses codes"
   ]
  },
  {
   "cell_type": "code",
   "execution_count": 1,
   "metadata": {
    "collapsed": true
   },
   "outputs": [],
   "source": [
    "import pandas as pd\n",
    "import seaborn as sb\n",
    "import datetime\n",
    "%matplotlib inline"
   ]
  },
  {
   "cell_type": "code",
   "execution_count": 2,
   "metadata": {
    "collapsed": true
   },
   "outputs": [],
   "source": [
    "MEDICARE_BASE_PATH = \"~/local-only/medicare-data/restructured/fsph-claims/\""
   ]
  },
  {
   "cell_type": "code",
   "execution_count": 3,
   "metadata": {
    "collapsed": true
   },
   "outputs": [],
   "source": [
    "claims = pd.read_csv(\n",
    "    MEDICARE_BASE_PATH + \"claim.csv\",\n",
    "    dtype={\n",
    "        \"PROVIDER\": str,\n",
    "        \"DSCHRGDT\": str,\n",
    "        \"ADMSN_DT\": str,\n",
    "        \"DRG_CD\": str,\n",
    "        \"DSYSRTKY\": str \n",
    "    },\n",
    "    na_values=[ \"00000000\" ])\\\n",
    "    .sort_values([ \"ADMSN_DT\", \"CLAIM_NO\"])"
   ]
  },
  {
   "cell_type": "code",
   "execution_count": 4,
   "metadata": {
    "collapsed": false
   },
   "outputs": [],
   "source": [
    "claims[\"admission_dt\"] = pd.to_datetime(claims[\"ADMSN_DT\"], format=\"%Y%m%d\")\n",
    "claims[\"discharge_dt\"] = pd.to_datetime(claims[\"DSCHRGDT\"], format=\"%Y%m%d\")"
   ]
  },
  {
   "cell_type": "markdown",
   "metadata": {},
   "source": [
    "Total claims:"
   ]
  },
  {
   "cell_type": "code",
   "execution_count": 5,
   "metadata": {
    "collapsed": false
   },
   "outputs": [
    {
     "data": {
      "text/plain": [
       "867070"
      ]
     },
     "execution_count": 5,
     "metadata": {},
     "output_type": "execute_result"
    }
   ],
   "source": [
    "len(claims)"
   ]
  },
  {
   "cell_type": "markdown",
   "metadata": {},
   "source": [
    "Provider count:"
   ]
  },
  {
   "cell_type": "code",
   "execution_count": 6,
   "metadata": {
    "collapsed": false
   },
   "outputs": [
    {
     "data": {
      "text/plain": [
       "550"
      ]
     },
     "execution_count": 6,
     "metadata": {},
     "output_type": "execute_result"
    }
   ],
   "source": [
    "claims[\"PROVIDER\"].nunique()"
   ]
  },
  {
   "cell_type": "markdown",
   "metadata": {},
   "source": [
    "### Identify stays\n",
    "\n",
    "A provider can file multiple claims for a single hospital stay. BuzzFeed News identified claims belonging to a common stay by comparing the patient’s numeric identifier, the patient’s admission date, and the provider’s CMS Certification Number. BuzzFeed News identified 822,749 such stays in the data, including 812,350 with a discharge date. (The Medicare dataset also includes claims for patients who, at the time of data submission, had not yet been discharged.)"
   ]
  },
  {
   "cell_type": "code",
   "execution_count": 7,
   "metadata": {
    "collapsed": false
   },
   "outputs": [],
   "source": [
    "claims[\"stay_uid\"] = claims[[ \"PROVIDER\", \"DSYSRTKY\", \"ADMSN_DT\" ]].apply(\"|\".join, axis=1)"
   ]
  },
  {
   "cell_type": "code",
   "execution_count": 8,
   "metadata": {
    "collapsed": false
   },
   "outputs": [
    {
     "data": {
      "text/plain": [
       "822749"
      ]
     },
     "execution_count": 8,
     "metadata": {},
     "output_type": "execute_result"
    }
   ],
   "source": [
    "claims[\"stay_uid\"].nunique()"
   ]
  },
  {
   "cell_type": "code",
   "execution_count": 9,
   "metadata": {
    "collapsed": false
   },
   "outputs": [],
   "source": [
    "stays = claims.reset_index().sort_values([ \"stay_uid\", \"CLAIM_NO\", \"discharge_dt\" ])\\\n",
    "    .groupby(\"stay_uid\")[[\n",
    "        \"PROVIDER\", \"DRG_CD\", \"admission_dt\", \"discharge_dt\", \"ID\"\n",
    "    ]].last().rename(columns={\"ID\": \"last_claim_id\"})"
   ]
  },
  {
   "cell_type": "code",
   "execution_count": 10,
   "metadata": {
    "collapsed": false
   },
   "outputs": [],
   "source": [
    "discharges = stays[stays[\"discharge_dt\"].notnull()].copy()"
   ]
  },
  {
   "cell_type": "code",
   "execution_count": 11,
   "metadata": {
    "collapsed": false
   },
   "outputs": [
    {
     "data": {
      "text/plain": [
       "812350"
      ]
     },
     "execution_count": 11,
     "metadata": {},
     "output_type": "execute_result"
    }
   ],
   "source": [
    "len(discharges)"
   ]
  },
  {
   "cell_type": "markdown",
   "metadata": {},
   "source": [
    "### Load diagnoses\n",
    "\n",
    "This data also comes from the Medicare claims dataset, but has been split into its own file by BuzzFeed News, for ease of anaylysis."
   ]
  },
  {
   "cell_type": "code",
   "execution_count": 12,
   "metadata": {
    "collapsed": false
   },
   "outputs": [],
   "source": [
    "diagnoses = pd.read_csv(\n",
    "    MEDICARE_BASE_PATH + \"dgnscd.csv\",\n",
    "    dtype={ \"value\": str }\n",
    ")"
   ]
  },
  {
   "cell_type": "code",
   "execution_count": 13,
   "metadata": {
    "collapsed": false
   },
   "outputs": [],
   "source": [
    "diagnoses[\"stay_uid\"] = pd.merge(\n",
    "    diagnoses,\n",
    "    stays.reset_index()[[ \"stay_uid\", \"last_claim_id\" ]],\n",
    "    right_on=\"last_claim_id\",\n",
    "    left_on=\"main_claim_id\",\n",
    "    how=\"left\"\n",
    ")[\"stay_uid\"]"
   ]
  },
  {
   "cell_type": "markdown",
   "metadata": {},
   "source": [
    "### Identify whether stay includes `V6284` diagnosis code\n",
    "\n",
    "ICD-9 code V6284 indicates a diagnosis of “suicidal ideation.” BuzzFeed News identified which claims included a V6284 diagnosis."
   ]
  },
  {
   "cell_type": "code",
   "execution_count": 14,
   "metadata": {
    "collapsed": false
   },
   "outputs": [],
   "source": [
    "discharges[\"diagnoses_incl_si\"] = discharges.index.isin(diagnoses[diagnoses[\"value\"] == \"V6284\"][\"stay_uid\"])"
   ]
  },
  {
   "cell_type": "code",
   "execution_count": 15,
   "metadata": {
    "collapsed": false
   },
   "outputs": [],
   "source": [
    "discharges[\"diagnoses_incl_si_10\"] = discharges.index.isin(diagnoses[\n",
    "    (diagnoses[\"value\"] == \"V6284\") &\n",
    "    (diagnoses[\"SGMT_NUM\"] == 1) &\n",
    "    (diagnoses[\"num\"] <= 10)\n",
    "][\"stay_uid\"])"
   ]
  },
  {
   "cell_type": "markdown",
   "metadata": {},
   "source": [
    "### Connect stays to hospital names and ownership\n",
    "\n",
    "The American Hospital Directory classifies all hospitals into three broad categories of ownership: government, proprietary/for-profit, and nonprofit. BuzzFeed News also identified which of the hospitals had, at any point been owned by UHS, and identified the date of establishment/purchase and date of closure/sale, where relevant. BuzzFeed News also identified which hospitals had been transferred to UHS ownership after the company acquired Psychiatric Solutions, Inc. The code below merges this information with the Medicare-claim data.\n",
    "\n",
    "Note: In some cases, the AHD's ownership categories do not align with CMS's [Provider of Services data](https://www.cms.gov/Research-Statistics-Data-and-Systems/Files-for-Order/NonIdentifiableDataFiles/ProviderofServicesFile.html). In some of those cases, the AHD appears to be correct; in others, the Provider of Services file does. Because of the potential discrepancies, please interpret the ownership distinctions among non-UHS, non-PSI hospitals — government, proprietary/for-profit, not-for-profit — with caution.\n",
    "\n",
    "Additionally, while BuzzFeed News identified UHS's hospital acquisitions and sales, it did not do so for non-UHS hospitals. If a non-UHS for-profit hospital was converted to not-for-profit ownership between 2009 and 2013, for example, the `ownership_at_discharge` field will not capture this."
   ]
  },
  {
   "cell_type": "code",
   "execution_count": 16,
   "metadata": {
    "collapsed": true
   },
   "outputs": [],
   "source": [
    "uhs_ownership = pd.read_csv(\n",
    "    \"../data/hospitals/uhs-ownership.csv\",\n",
    "    parse_dates=[ \"uhs_date_acq\", \"uhs_date_sold\" ],\n",
    ").set_index(\"medicare_id\")"
   ]
  },
  {
   "cell_type": "code",
   "execution_count": 17,
   "metadata": {
    "collapsed": false
   },
   "outputs": [
    {
     "data": {
      "text/html": [
       "<div>\n",
       "<table border=\"1\" class=\"dataframe\">\n",
       "  <thead>\n",
       "    <tr style=\"text-align: right;\">\n",
       "      <th></th>\n",
       "      <th>facility</th>\n",
       "      <th>was_psi</th>\n",
       "      <th>uhs_date_acq</th>\n",
       "      <th>date_acq_precision</th>\n",
       "      <th>uhs_date_sold</th>\n",
       "      <th>date_sold_precision</th>\n",
       "    </tr>\n",
       "    <tr>\n",
       "      <th>medicare_id</th>\n",
       "      <th></th>\n",
       "      <th></th>\n",
       "      <th></th>\n",
       "      <th></th>\n",
       "      <th></th>\n",
       "      <th></th>\n",
       "    </tr>\n",
       "  </thead>\n",
       "  <tbody>\n",
       "    <tr>\n",
       "      <th>014000</th>\n",
       "      <td>Hill Crest Behavioral Health Services</td>\n",
       "      <td>1</td>\n",
       "      <td>2010-11-15 00:00:00</td>\n",
       "      <td>day</td>\n",
       "      <td></td>\n",
       "      <td></td>\n",
       "    </tr>\n",
       "    <tr>\n",
       "      <th>014013</th>\n",
       "      <td>Laurel Oaks Behavioral Health Center</td>\n",
       "      <td>1</td>\n",
       "      <td>2010-11-15 00:00:00</td>\n",
       "      <td>day</td>\n",
       "      <td></td>\n",
       "      <td></td>\n",
       "    </tr>\n",
       "    <tr>\n",
       "      <th>024001</th>\n",
       "      <td>North Star Hospital</td>\n",
       "      <td>0</td>\n",
       "      <td>2003-01-01 00:00:00</td>\n",
       "      <td>day</td>\n",
       "      <td></td>\n",
       "      <td></td>\n",
       "    </tr>\n",
       "    <tr>\n",
       "      <th>034026</th>\n",
       "      <td>Valley Hospital</td>\n",
       "      <td>0</td>\n",
       "      <td>2012-10-01 00:00:00</td>\n",
       "      <td>day</td>\n",
       "      <td></td>\n",
       "      <td></td>\n",
       "    </tr>\n",
       "    <tr>\n",
       "      <th>044005</th>\n",
       "      <td>The Bridgeway</td>\n",
       "      <td>0</td>\n",
       "      <td>1983-05-02 00:00:00</td>\n",
       "      <td>day</td>\n",
       "      <td></td>\n",
       "      <td></td>\n",
       "    </tr>\n",
       "  </tbody>\n",
       "</table>\n",
       "</div>"
      ],
      "text/plain": [
       "                                          facility  was_psi  \\\n",
       "medicare_id                                                   \n",
       "014000       Hill Crest Behavioral Health Services        1   \n",
       "014013        Laurel Oaks Behavioral Health Center        1   \n",
       "024001                         North Star Hospital        0   \n",
       "034026                             Valley Hospital        0   \n",
       "044005                               The Bridgeway        0   \n",
       "\n",
       "                    uhs_date_acq date_acq_precision uhs_date_sold  \\\n",
       "medicare_id                                                         \n",
       "014000       2010-11-15 00:00:00                day                 \n",
       "014013       2010-11-15 00:00:00                day                 \n",
       "024001       2003-01-01 00:00:00                day                 \n",
       "034026       2012-10-01 00:00:00                day                 \n",
       "044005       1983-05-02 00:00:00                day                 \n",
       "\n",
       "            date_sold_precision  \n",
       "medicare_id                      \n",
       "014000                           \n",
       "014013                           \n",
       "024001                           \n",
       "034026                           \n",
       "044005                           "
      ]
     },
     "execution_count": 17,
     "metadata": {},
     "output_type": "execute_result"
    }
   ],
   "source": [
    "uhs_ownership.head().fillna(\"\")"
   ]
  },
  {
   "cell_type": "code",
   "execution_count": 18,
   "metadata": {
    "collapsed": false
   },
   "outputs": [],
   "source": [
    "hospital_ownership = pd.read_csv(\n",
    "    \"../data/hospitals/ahd-inpatient-hospitals.csv\",\n",
    "    dtype={ \"CMS Certification Number\": \"str\" },\n",
    "    low_memory=False\n",
    ").set_index(\"CMS Certification Number\")"
   ]
  },
  {
   "cell_type": "code",
   "execution_count": 19,
   "metadata": {
    "collapsed": false
   },
   "outputs": [
    {
     "data": {
      "text/html": [
       "<div>\n",
       "<table border=\"1\" class=\"dataframe\">\n",
       "  <thead>\n",
       "    <tr style=\"text-align: right;\">\n",
       "      <th></th>\n",
       "      <th>Hospital Name</th>\n",
       "      <th>State</th>\n",
       "      <th>ownership</th>\n",
       "    </tr>\n",
       "    <tr>\n",
       "      <th>CMS Certification Number</th>\n",
       "      <th></th>\n",
       "      <th></th>\n",
       "      <th></th>\n",
       "    </tr>\n",
       "  </thead>\n",
       "  <tbody>\n",
       "    <tr>\n",
       "      <th>024002</th>\n",
       "      <td>Alaska Psychiatric Institute</td>\n",
       "      <td>AK</td>\n",
       "      <td>government</td>\n",
       "    </tr>\n",
       "    <tr>\n",
       "      <th>074015</th>\n",
       "      <td>Albert J. Solnit Psychiatric Center - South Ca...</td>\n",
       "      <td>CT</td>\n",
       "      <td>government</td>\n",
       "    </tr>\n",
       "    <tr>\n",
       "      <th>394011</th>\n",
       "      <td>Allentown State Hospital</td>\n",
       "      <td>PA</td>\n",
       "      <td>government</td>\n",
       "    </tr>\n",
       "    <tr>\n",
       "      <th>144016</th>\n",
       "      <td>Alton Mental Health Center</td>\n",
       "      <td>IL</td>\n",
       "      <td>government</td>\n",
       "    </tr>\n",
       "    <tr>\n",
       "      <th>314005</th>\n",
       "      <td>Ancora Psychiatric Hospital</td>\n",
       "      <td>NJ</td>\n",
       "      <td>government</td>\n",
       "    </tr>\n",
       "  </tbody>\n",
       "</table>\n",
       "</div>"
      ],
      "text/plain": [
       "                                                              Hospital Name  \\\n",
       "CMS Certification Number                                                      \n",
       "024002                                         Alaska Psychiatric Institute   \n",
       "074015                    Albert J. Solnit Psychiatric Center - South Ca...   \n",
       "394011                                             Allentown State Hospital   \n",
       "144016                                           Alton Mental Health Center   \n",
       "314005                                          Ancora Psychiatric Hospital   \n",
       "\n",
       "                         State   ownership  \n",
       "CMS Certification Number                    \n",
       "024002                      AK  government  \n",
       "074015                      CT  government  \n",
       "394011                      PA  government  \n",
       "144016                      IL  government  \n",
       "314005                      NJ  government  "
      ]
     },
     "execution_count": 19,
     "metadata": {},
     "output_type": "execute_result"
    }
   ],
   "source": [
    "hospital_ownership.head()"
   ]
  },
  {
   "cell_type": "code",
   "execution_count": 20,
   "metadata": {
    "collapsed": true
   },
   "outputs": [],
   "source": [
    "hospitals = pd.merge(\n",
    "    hospital_ownership,\n",
    "    uhs_ownership,\n",
    "    left_index=True,\n",
    "    right_index=True,\n",
    "    how=\"left\"\n",
    ")"
   ]
  },
  {
   "cell_type": "code",
   "execution_count": 21,
   "metadata": {
    "collapsed": false
   },
   "outputs": [
    {
     "data": {
      "text/html": [
       "<div>\n",
       "<table border=\"1\" class=\"dataframe\">\n",
       "  <thead>\n",
       "    <tr style=\"text-align: right;\">\n",
       "      <th></th>\n",
       "      <th>Hospital Name</th>\n",
       "      <th>State</th>\n",
       "      <th>ownership</th>\n",
       "      <th>facility</th>\n",
       "      <th>was_psi</th>\n",
       "      <th>uhs_date_acq</th>\n",
       "      <th>date_acq_precision</th>\n",
       "      <th>uhs_date_sold</th>\n",
       "      <th>date_sold_precision</th>\n",
       "    </tr>\n",
       "    <tr>\n",
       "      <th>CMS Certification Number</th>\n",
       "      <th></th>\n",
       "      <th></th>\n",
       "      <th></th>\n",
       "      <th></th>\n",
       "      <th></th>\n",
       "      <th></th>\n",
       "      <th></th>\n",
       "      <th></th>\n",
       "      <th></th>\n",
       "    </tr>\n",
       "  </thead>\n",
       "  <tbody>\n",
       "    <tr>\n",
       "      <th>024002</th>\n",
       "      <td>Alaska Psychiatric Institute</td>\n",
       "      <td>AK</td>\n",
       "      <td>government</td>\n",
       "      <td></td>\n",
       "      <td></td>\n",
       "      <td></td>\n",
       "      <td></td>\n",
       "      <td></td>\n",
       "      <td></td>\n",
       "    </tr>\n",
       "    <tr>\n",
       "      <th>074015</th>\n",
       "      <td>Albert J. Solnit Psychiatric Center - South Ca...</td>\n",
       "      <td>CT</td>\n",
       "      <td>government</td>\n",
       "      <td></td>\n",
       "      <td></td>\n",
       "      <td></td>\n",
       "      <td></td>\n",
       "      <td></td>\n",
       "      <td></td>\n",
       "    </tr>\n",
       "    <tr>\n",
       "      <th>394011</th>\n",
       "      <td>Allentown State Hospital</td>\n",
       "      <td>PA</td>\n",
       "      <td>government</td>\n",
       "      <td></td>\n",
       "      <td></td>\n",
       "      <td></td>\n",
       "      <td></td>\n",
       "      <td></td>\n",
       "      <td></td>\n",
       "    </tr>\n",
       "    <tr>\n",
       "      <th>144016</th>\n",
       "      <td>Alton Mental Health Center</td>\n",
       "      <td>IL</td>\n",
       "      <td>government</td>\n",
       "      <td></td>\n",
       "      <td></td>\n",
       "      <td></td>\n",
       "      <td></td>\n",
       "      <td></td>\n",
       "      <td></td>\n",
       "    </tr>\n",
       "    <tr>\n",
       "      <th>314005</th>\n",
       "      <td>Ancora Psychiatric Hospital</td>\n",
       "      <td>NJ</td>\n",
       "      <td>government</td>\n",
       "      <td></td>\n",
       "      <td></td>\n",
       "      <td></td>\n",
       "      <td></td>\n",
       "      <td></td>\n",
       "      <td></td>\n",
       "    </tr>\n",
       "  </tbody>\n",
       "</table>\n",
       "</div>"
      ],
      "text/plain": [
       "                                                              Hospital Name  \\\n",
       "CMS Certification Number                                                      \n",
       "024002                                         Alaska Psychiatric Institute   \n",
       "074015                    Albert J. Solnit Psychiatric Center - South Ca...   \n",
       "394011                                             Allentown State Hospital   \n",
       "144016                                           Alton Mental Health Center   \n",
       "314005                                          Ancora Psychiatric Hospital   \n",
       "\n",
       "                         State   ownership facility was_psi uhs_date_acq  \\\n",
       "CMS Certification Number                                                   \n",
       "024002                      AK  government                                 \n",
       "074015                      CT  government                                 \n",
       "394011                      PA  government                                 \n",
       "144016                      IL  government                                 \n",
       "314005                      NJ  government                                 \n",
       "\n",
       "                         date_acq_precision uhs_date_sold date_sold_precision  \n",
       "CMS Certification Number                                                       \n",
       "024002                                                                         \n",
       "074015                                                                         \n",
       "394011                                                                         \n",
       "144016                                                                         \n",
       "314005                                                                         "
      ]
     },
     "execution_count": 21,
     "metadata": {},
     "output_type": "execute_result"
    }
   ],
   "source": [
    "hospitals.head().fillna(\"\")"
   ]
  },
  {
   "cell_type": "code",
   "execution_count": 22,
   "metadata": {
    "collapsed": false
   },
   "outputs": [],
   "source": [
    "_merged = pd.merge(\n",
    "    discharges.reset_index(),\n",
    "    hospitals[[\n",
    "        \"ownership\", \"uhs_date_acq\", \"uhs_date_sold\"\n",
    "    ]],\n",
    "    left_on=\"PROVIDER\",\n",
    "    right_index=True,\n",
    "    how=\"left\"\n",
    ").set_index(\"stay_uid\")"
   ]
  },
  {
   "cell_type": "code",
   "execution_count": 23,
   "metadata": {
    "collapsed": false
   },
   "outputs": [],
   "source": [
    "PSI_ACQUISITION_DATE = datetime.date(2010, 11, 15)"
   ]
  },
  {
   "cell_type": "code",
   "execution_count": 24,
   "metadata": {
    "collapsed": true
   },
   "outputs": [],
   "source": [
    "def classify_ownership_at_discharge(d):\n",
    "    psi = d[\"uhs_date_acq\"].date() == PSI_ACQUISITION_DATE\n",
    "    if d[\"discharge_dt\"] >= d[\"uhs_date_acq\"]:\n",
    "        if (d[\"discharge_dt\"] >= d[\"uhs_date_sold\"]):\n",
    "            return d[\"ownership\"]\n",
    "        elif psi:\n",
    "            return \"uhs_psi\"\n",
    "        else:\n",
    "            return \"uhs_non_psi\"\n",
    "    elif psi:\n",
    "        return \"psi_pre_uhs\"\n",
    "    else:\n",
    "        return d[\"ownership\"]"
   ]
  },
  {
   "cell_type": "code",
   "execution_count": 25,
   "metadata": {
    "collapsed": false
   },
   "outputs": [],
   "source": [
    "discharges[\"ownership_at_discharge\"] = _merged.apply(classify_ownership_at_discharge, axis=1)"
   ]
  },
  {
   "cell_type": "code",
   "execution_count": 26,
   "metadata": {
    "collapsed": false,
    "scrolled": true
   },
   "outputs": [
    {
     "data": {
      "text/plain": [
       "0.0020619191235304981"
      ]
     },
     "execution_count": 26,
     "metadata": {},
     "output_type": "execute_result"
    }
   ],
   "source": [
    "discharges[\"ownership_at_discharge\"].isnull().mean()"
   ]
  },
  {
   "cell_type": "code",
   "execution_count": 27,
   "metadata": {
    "collapsed": false,
    "scrolled": true
   },
   "outputs": [
    {
     "data": {
      "text/plain": [
       "494029    1072\n",
       "494021     598\n",
       "104000       5\n",
       "Name: PROVIDER, dtype: int64"
      ]
     },
     "execution_count": 27,
     "metadata": {},
     "output_type": "execute_result"
    }
   ],
   "source": [
    "discharges[discharges[\"ownership_at_discharge\"].isnull()][\"PROVIDER\"].value_counts()"
   ]
  },
  {
   "cell_type": "markdown",
   "metadata": {},
   "source": [
    "A small fraction of discharges — about 0.2% — are associated with CMS Certification Numbers for providers not identified in the American Hospital Directory dataset. The vast majority of those discharges — all but five — belong to Western State Hospital and Southwestern Virginia Mental Health Institute, both based in Virginia, and both of which changed certification numbers in recent years. Below, we assign those ownership categories manually."
   ]
  },
  {
   "cell_type": "code",
   "execution_count": 28,
   "metadata": {
    "collapsed": true
   },
   "outputs": [],
   "source": [
    "# Alternate CCN for Western State Hospital (Virginia)\n",
    "discharges.loc[(discharges[\"PROVIDER\"] == \"494021\"), \"ownership_at_discharge\"] = \"government\" \n",
    "# Alternate CCN for Southwestern Virginia Mental Health Institute (Virginia)\n",
    "discharges.loc[(discharges[\"PROVIDER\"] == \"494029\"), \"ownership_at_discharge\"] = \"government\" "
   ]
  },
  {
   "cell_type": "code",
   "execution_count": 29,
   "metadata": {
    "collapsed": false
   },
   "outputs": [],
   "source": [
    "del _merged"
   ]
  },
  {
   "cell_type": "code",
   "execution_count": 30,
   "metadata": {
    "collapsed": false
   },
   "outputs": [],
   "source": [
    "discharges[\"uhs_at_discharge\"] = discharges[\"ownership_at_discharge\"].isin([ \"uhs_psi\", \"uhs_non_psi\" ])\n",
    "discharges[\"psi_at_discharge\"] = discharges[\"ownership_at_discharge\"].isin([ \"uhs_psi\", \"psi_pre_uhs\" ])"
   ]
  },
  {
   "cell_type": "markdown",
   "metadata": {},
   "source": [
    "---\n",
    "\n",
    "# Suicidal ideation analysis"
   ]
  },
  {
   "cell_type": "markdown",
   "metadata": {},
   "source": [
    "### What proportion of UHS stays were classified as DRG 885 (\"psychoses\")?"
   ]
  },
  {
   "cell_type": "code",
   "execution_count": 31,
   "metadata": {
    "collapsed": true
   },
   "outputs": [],
   "source": [
    "discharges[\"is_drg_885\"] = discharges[\"DRG_CD\"] == \"885\""
   ]
  },
  {
   "cell_type": "code",
   "execution_count": 32,
   "metadata": {
    "collapsed": false
   },
   "outputs": [
    {
     "name": "stdout",
     "output_type": "stream",
     "text": [
      "74.8% of UHS stays were classified as DRG 885\n"
     ]
    }
   ],
   "source": [
    "print(\"{0:.1f}% of UHS stays were classified as DRG 885\".format(\n",
    "    discharges[discharges[\"uhs_at_discharge\"] == True][\"is_drg_885\"].mean() * 100\n",
    "))"
   ]
  },
  {
   "cell_type": "markdown",
   "metadata": {},
   "source": [
    "Most common DRGs at UHS hospitals:"
   ]
  },
  {
   "cell_type": "code",
   "execution_count": 33,
   "metadata": {
    "collapsed": false
   },
   "outputs": [
    {
     "data": {
      "text/plain": [
       "885    0.747594\n",
       "897    0.094210\n",
       "895    0.038757\n",
       "881    0.024928\n",
       "884    0.024204\n",
       "Name: DRG_CD, dtype: float64"
      ]
     },
     "execution_count": 33,
     "metadata": {},
     "output_type": "execute_result"
    }
   ],
   "source": [
    "discharges[\n",
    "    discharges[\"uhs_at_discharge\"] == True\n",
    "][\"DRG_CD\"].value_counts().head() / discharges[\"uhs_at_discharge\"].sum()"
   ]
  },
  {
   "cell_type": "markdown",
   "metadata": {},
   "source": [
    "... and at non-UHS hospitals:"
   ]
  },
  {
   "cell_type": "code",
   "execution_count": 34,
   "metadata": {
    "collapsed": false
   },
   "outputs": [
    {
     "data": {
      "text/plain": [
       "885    0.691353\n",
       "897    0.068769\n",
       "000    0.058372\n",
       "884    0.040625\n",
       "057    0.030590\n",
       "Name: DRG_CD, dtype: float64"
      ]
     },
     "execution_count": 34,
     "metadata": {},
     "output_type": "execute_result"
    }
   ],
   "source": [
    "discharges[\n",
    "    discharges[\"uhs_at_discharge\"] == False\n",
    "][\"DRG_CD\"].value_counts().head() / (discharges[\"uhs_at_discharge\"] == False).sum()"
   ]
  },
  {
   "cell_type": "markdown",
   "metadata": {},
   "source": [
    "### What proportion of stays included a `V6284` diagnosis code?"
   ]
  },
  {
   "cell_type": "code",
   "execution_count": 35,
   "metadata": {
    "collapsed": false
   },
   "outputs": [
    {
     "name": "stdout",
     "output_type": "stream",
     "text": [
      "17.4% of stays involved a V6284 diagnosis code\n"
     ]
    }
   ],
   "source": [
    "print(\"{0:.1f}% of stays involved a V6284 diagnosis code\".format(discharges[\"diagnoses_incl_si\"].mean() * 100))"
   ]
  },
  {
   "cell_type": "code",
   "execution_count": 36,
   "metadata": {
    "collapsed": false
   },
   "outputs": [
    {
     "name": "stdout",
     "output_type": "stream",
     "text": [
      "16.6% of stays involved a V6284 diagnosis code within its first 10 diagnoses\n"
     ]
    }
   ],
   "source": [
    "print(\"{0:.1f}% of stays involved a V6284 diagnosis code within its first 10 diagnoses\"\\\n",
    "        .format(discharges[\"diagnoses_incl_si_10\"].mean() * 100))"
   ]
  },
  {
   "cell_type": "markdown",
   "metadata": {},
   "source": [
    "`V6284` diagnosis coding rate by whether primary diagnoses fell within DRG 885:"
   ]
  },
  {
   "cell_type": "code",
   "execution_count": 37,
   "metadata": {
    "collapsed": false
   },
   "outputs": [
    {
     "data": {
      "text/html": [
       "<div>\n",
       "<table border=\"1\" class=\"dataframe\">\n",
       "  <thead>\n",
       "    <tr style=\"text-align: right;\">\n",
       "      <th></th>\n",
       "      <th>diagnoses_incl_si</th>\n",
       "      <th>diagnoses_incl_si_10</th>\n",
       "    </tr>\n",
       "    <tr>\n",
       "      <th>is_drg_885</th>\n",
       "      <th></th>\n",
       "      <th></th>\n",
       "    </tr>\n",
       "  </thead>\n",
       "  <tbody>\n",
       "    <tr>\n",
       "      <th>False</th>\n",
       "      <td>0.093</td>\n",
       "      <td>0.087</td>\n",
       "    </tr>\n",
       "    <tr>\n",
       "      <th>True</th>\n",
       "      <td>0.207</td>\n",
       "      <td>0.199</td>\n",
       "    </tr>\n",
       "  </tbody>\n",
       "</table>\n",
       "</div>"
      ],
      "text/plain": [
       "            diagnoses_incl_si  diagnoses_incl_si_10\n",
       "is_drg_885                                         \n",
       "False                   0.093                 0.087\n",
       "True                    0.207                 0.199"
      ]
     },
     "execution_count": 37,
     "metadata": {},
     "output_type": "execute_result"
    }
   ],
   "source": [
    "discharges.groupby(\"is_drg_885\")[[\"diagnoses_incl_si\", \"diagnoses_incl_si_10\"]].mean().round(3)"
   ]
  },
  {
   "cell_type": "markdown",
   "metadata": {},
   "source": [
    "### What proportion of stays included a `V6284` diagnosis code, by hospital ownership and year of discharge?"
   ]
  },
  {
   "cell_type": "markdown",
   "metadata": {},
   "source": [
    "Number of total stays:"
   ]
  },
  {
   "cell_type": "code",
   "execution_count": 38,
   "metadata": {
    "collapsed": false
   },
   "outputs": [
    {
     "data": {
      "text/html": [
       "<div>\n",
       "<table border=\"1\" class=\"dataframe\">\n",
       "  <thead>\n",
       "    <tr style=\"text-align: right;\">\n",
       "      <th>discharge_dt</th>\n",
       "      <th>2009</th>\n",
       "      <th>2010</th>\n",
       "      <th>2011</th>\n",
       "      <th>2012</th>\n",
       "      <th>2013</th>\n",
       "    </tr>\n",
       "    <tr>\n",
       "      <th>ownership_at_discharge</th>\n",
       "      <th></th>\n",
       "      <th></th>\n",
       "      <th></th>\n",
       "      <th></th>\n",
       "      <th></th>\n",
       "    </tr>\n",
       "  </thead>\n",
       "  <tbody>\n",
       "    <tr>\n",
       "      <th>government</th>\n",
       "      <td>27750</td>\n",
       "      <td>26654</td>\n",
       "      <td>25052</td>\n",
       "      <td>23635</td>\n",
       "      <td>21834</td>\n",
       "    </tr>\n",
       "    <tr>\n",
       "      <th>nonprofit</th>\n",
       "      <td>33519</td>\n",
       "      <td>34273</td>\n",
       "      <td>33985</td>\n",
       "      <td>32867</td>\n",
       "      <td>32906</td>\n",
       "    </tr>\n",
       "    <tr>\n",
       "      <th>proprietary</th>\n",
       "      <td>38688</td>\n",
       "      <td>42557</td>\n",
       "      <td>46636</td>\n",
       "      <td>50763</td>\n",
       "      <td>54348</td>\n",
       "    </tr>\n",
       "    <tr>\n",
       "      <th>psi_pre_uhs</th>\n",
       "      <td>27688</td>\n",
       "      <td>26997</td>\n",
       "      <td>0</td>\n",
       "      <td>0</td>\n",
       "      <td>0</td>\n",
       "    </tr>\n",
       "    <tr>\n",
       "      <th>uhs_non_psi</th>\n",
       "      <td>22465</td>\n",
       "      <td>24866</td>\n",
       "      <td>26220</td>\n",
       "      <td>28230</td>\n",
       "      <td>30900</td>\n",
       "    </tr>\n",
       "    <tr>\n",
       "      <th>uhs_psi</th>\n",
       "      <td>0</td>\n",
       "      <td>3765</td>\n",
       "      <td>31789</td>\n",
       "      <td>31855</td>\n",
       "      <td>32103</td>\n",
       "    </tr>\n",
       "  </tbody>\n",
       "</table>\n",
       "</div>"
      ],
      "text/plain": [
       "discharge_dt             2009   2010   2011   2012   2013\n",
       "ownership_at_discharge                                   \n",
       "government              27750  26654  25052  23635  21834\n",
       "nonprofit               33519  34273  33985  32867  32906\n",
       "proprietary             38688  42557  46636  50763  54348\n",
       "psi_pre_uhs             27688  26997      0      0      0\n",
       "uhs_non_psi             22465  24866  26220  28230  30900\n",
       "uhs_psi                     0   3765  31789  31855  32103"
      ]
     },
     "execution_count": 38,
     "metadata": {},
     "output_type": "execute_result"
    }
   ],
   "source": [
    "discharges.groupby([\n",
    "    \"ownership_at_discharge\",\n",
    "    discharges[\"discharge_dt\"].dt.year.apply(int)\n",
    "]).size().round(3).unstack().fillna(0).astype(int)"
   ]
  },
  {
   "cell_type": "code",
   "execution_count": 39,
   "metadata": {
    "collapsed": true
   },
   "outputs": [],
   "source": [
    "def get_si_rate(df, resampler=\"AS\", col=\"diagnoses_incl_si\"):\n",
    "    return df.set_index(\"discharge_dt\")[col].resample(resampler).mean()"
   ]
  },
  {
   "cell_type": "code",
   "execution_count": 40,
   "metadata": {
    "collapsed": false
   },
   "outputs": [],
   "source": [
    "def percentify(df):\n",
    "    return df.applymap(lambda x: \"\" if pd.isnull(x) else \"{0:.1f}%\".format(x * 100))"
   ]
  },
  {
   "cell_type": "markdown",
   "metadata": {},
   "source": [
    "### Proportion of stays that included a suicidal ideation diagnosis codes, by year of discharge:"
   ]
  },
  {
   "cell_type": "code",
   "execution_count": 41,
   "metadata": {
    "collapsed": true
   },
   "outputs": [],
   "source": [
    "OWNERSHIP_ORDER = [\n",
    "    \"uhs_non_psi\", \"uhs_psi\", \"psi_pre_uhs\",\n",
    "    \"proprietary\", \"nonprofit\", \"government\"\n",
    "]"
   ]
  },
  {
   "cell_type": "markdown",
   "metadata": {},
   "source": [
    "By detailed ownership, among all discharges and diagnoses:"
   ]
  },
  {
   "cell_type": "code",
   "execution_count": 42,
   "metadata": {
    "collapsed": false
   },
   "outputs": [
    {
     "data": {
      "text/html": [
       "<div>\n",
       "<table border=\"1\" class=\"dataframe\">\n",
       "  <thead>\n",
       "    <tr style=\"text-align: right;\">\n",
       "      <th>discharge_dt</th>\n",
       "      <th>2009</th>\n",
       "      <th>2010</th>\n",
       "      <th>2011</th>\n",
       "      <th>2012</th>\n",
       "      <th>2013</th>\n",
       "    </tr>\n",
       "    <tr>\n",
       "      <th>ownership_at_discharge</th>\n",
       "      <th></th>\n",
       "      <th></th>\n",
       "      <th></th>\n",
       "      <th></th>\n",
       "      <th></th>\n",
       "    </tr>\n",
       "  </thead>\n",
       "  <tbody>\n",
       "    <tr>\n",
       "      <th>uhs_non_psi</th>\n",
       "      <td>38.4%</td>\n",
       "      <td>41.5%</td>\n",
       "      <td>45.3%</td>\n",
       "      <td>50.1%</td>\n",
       "      <td>52.4%</td>\n",
       "    </tr>\n",
       "    <tr>\n",
       "      <th>uhs_psi</th>\n",
       "      <td></td>\n",
       "      <td>4.0%</td>\n",
       "      <td>28.2%</td>\n",
       "      <td>45.1%</td>\n",
       "      <td>51.1%</td>\n",
       "    </tr>\n",
       "    <tr>\n",
       "      <th>psi_pre_uhs</th>\n",
       "      <td>3.4%</td>\n",
       "      <td>3.5%</td>\n",
       "      <td></td>\n",
       "      <td></td>\n",
       "      <td></td>\n",
       "    </tr>\n",
       "    <tr>\n",
       "      <th>proprietary</th>\n",
       "      <td>4.0%</td>\n",
       "      <td>6.0%</td>\n",
       "      <td>7.6%</td>\n",
       "      <td>11.4%</td>\n",
       "      <td>14.8%</td>\n",
       "    </tr>\n",
       "    <tr>\n",
       "      <th>nonprofit</th>\n",
       "      <td>6.1%</td>\n",
       "      <td>7.2%</td>\n",
       "      <td>9.9%</td>\n",
       "      <td>11.2%</td>\n",
       "      <td>12.6%</td>\n",
       "    </tr>\n",
       "    <tr>\n",
       "      <th>government</th>\n",
       "      <td>0.5%</td>\n",
       "      <td>0.5%</td>\n",
       "      <td>0.7%</td>\n",
       "      <td>0.8%</td>\n",
       "      <td>1.1%</td>\n",
       "    </tr>\n",
       "  </tbody>\n",
       "</table>\n",
       "</div>"
      ],
      "text/plain": [
       "discharge_dt             2009   2010   2011   2012   2013\n",
       "ownership_at_discharge                                   \n",
       "uhs_non_psi             38.4%  41.5%  45.3%  50.1%  52.4%\n",
       "uhs_psi                         4.0%  28.2%  45.1%  51.1%\n",
       "psi_pre_uhs              3.4%   3.5%                     \n",
       "proprietary              4.0%   6.0%   7.6%  11.4%  14.8%\n",
       "nonprofit                6.1%   7.2%   9.9%  11.2%  12.6%\n",
       "government               0.5%   0.5%   0.7%   0.8%   1.1%"
      ]
     },
     "execution_count": 42,
     "metadata": {},
     "output_type": "execute_result"
    }
   ],
   "source": [
    "discharges.groupby([\n",
    "    \"ownership_at_discharge\",\n",
    "    discharges[\"discharge_dt\"].dt.year.apply(int)\n",
    "])[\"diagnoses_incl_si\"].mean().round(3).unstack().pipe(percentify).loc[OWNERSHIP_ORDER]"
   ]
  },
  {
   "cell_type": "markdown",
   "metadata": {},
   "source": [
    "*Based on the table above, ratio from PSI in 2010 (pre-UHS) vs. in 2011: 28.2 / 3.5 = 8.06*"
   ]
  },
  {
   "cell_type": "markdown",
   "metadata": {},
   "source": [
    "Limiting to only the first 10 diagnoses listed, for consistency's sake across the different years in the dataset. (Before 2011, hospitals could only list 10 diagnoses per claim segment.):"
   ]
  },
  {
   "cell_type": "code",
   "execution_count": 43,
   "metadata": {
    "collapsed": false
   },
   "outputs": [
    {
     "data": {
      "text/html": [
       "<div>\n",
       "<table border=\"1\" class=\"dataframe\">\n",
       "  <thead>\n",
       "    <tr style=\"text-align: right;\">\n",
       "      <th>discharge_dt</th>\n",
       "      <th>2009</th>\n",
       "      <th>2010</th>\n",
       "      <th>2011</th>\n",
       "      <th>2012</th>\n",
       "      <th>2013</th>\n",
       "    </tr>\n",
       "    <tr>\n",
       "      <th>ownership_at_discharge</th>\n",
       "      <th></th>\n",
       "      <th></th>\n",
       "      <th></th>\n",
       "      <th></th>\n",
       "      <th></th>\n",
       "    </tr>\n",
       "  </thead>\n",
       "  <tbody>\n",
       "    <tr>\n",
       "      <th>uhs_non_psi</th>\n",
       "      <td>38.4%</td>\n",
       "      <td>41.5%</td>\n",
       "      <td>45.1%</td>\n",
       "      <td>49.9%</td>\n",
       "      <td>51.7%</td>\n",
       "    </tr>\n",
       "    <tr>\n",
       "      <th>uhs_psi</th>\n",
       "      <td></td>\n",
       "      <td>4.0%</td>\n",
       "      <td>24.4%</td>\n",
       "      <td>39.3%</td>\n",
       "      <td>48.4%</td>\n",
       "    </tr>\n",
       "    <tr>\n",
       "      <th>psi_pre_uhs</th>\n",
       "      <td>3.4%</td>\n",
       "      <td>3.5%</td>\n",
       "      <td></td>\n",
       "      <td></td>\n",
       "      <td></td>\n",
       "    </tr>\n",
       "    <tr>\n",
       "      <th>proprietary</th>\n",
       "      <td>4.0%</td>\n",
       "      <td>6.0%</td>\n",
       "      <td>7.4%</td>\n",
       "      <td>11.1%</td>\n",
       "      <td>14.4%</td>\n",
       "    </tr>\n",
       "    <tr>\n",
       "      <th>nonprofit</th>\n",
       "      <td>6.1%</td>\n",
       "      <td>7.2%</td>\n",
       "      <td>8.8%</td>\n",
       "      <td>9.8%</td>\n",
       "      <td>10.9%</td>\n",
       "    </tr>\n",
       "    <tr>\n",
       "      <th>government</th>\n",
       "      <td>0.5%</td>\n",
       "      <td>0.5%</td>\n",
       "      <td>0.7%</td>\n",
       "      <td>0.8%</td>\n",
       "      <td>1.1%</td>\n",
       "    </tr>\n",
       "  </tbody>\n",
       "</table>\n",
       "</div>"
      ],
      "text/plain": [
       "discharge_dt             2009   2010   2011   2012   2013\n",
       "ownership_at_discharge                                   \n",
       "uhs_non_psi             38.4%  41.5%  45.1%  49.9%  51.7%\n",
       "uhs_psi                         4.0%  24.4%  39.3%  48.4%\n",
       "psi_pre_uhs              3.4%   3.5%                     \n",
       "proprietary              4.0%   6.0%   7.4%  11.1%  14.4%\n",
       "nonprofit                6.1%   7.2%   8.8%   9.8%  10.9%\n",
       "government               0.5%   0.5%   0.7%   0.8%   1.1%"
      ]
     },
     "execution_count": 43,
     "metadata": {},
     "output_type": "execute_result"
    }
   ],
   "source": [
    "discharges.groupby([\n",
    "    \"ownership_at_discharge\",\n",
    "    discharges[\"discharge_dt\"].dt.year.apply(int)\n",
    "])[\"diagnoses_incl_si_10\"].mean().round(3).unstack().pipe(percentify).loc[OWNERSHIP_ORDER]"
   ]
  },
  {
   "cell_type": "markdown",
   "metadata": {},
   "source": [
    "*Based on the table above, ratio from PSI in 2010 (pre-UHS) vs. in 2011: 24.4 / 3.5 = 6.97*"
   ]
  },
  {
   "cell_type": "markdown",
   "metadata": {},
   "source": [
    "By UHS vs. non-UHS, for all listed diagnoses:"
   ]
  },
  {
   "cell_type": "code",
   "execution_count": 44,
   "metadata": {
    "collapsed": false
   },
   "outputs": [
    {
     "data": {
      "text/html": [
       "<div>\n",
       "<table border=\"1\" class=\"dataframe\">\n",
       "  <thead>\n",
       "    <tr style=\"text-align: right;\">\n",
       "      <th>discharge_dt</th>\n",
       "      <th>2009</th>\n",
       "      <th>2010</th>\n",
       "      <th>2011</th>\n",
       "      <th>2012</th>\n",
       "      <th>2013</th>\n",
       "    </tr>\n",
       "    <tr>\n",
       "      <th>uhs_at_discharge</th>\n",
       "      <th></th>\n",
       "      <th></th>\n",
       "      <th></th>\n",
       "      <th></th>\n",
       "      <th></th>\n",
       "    </tr>\n",
       "  </thead>\n",
       "  <tbody>\n",
       "    <tr>\n",
       "      <th>non-UHS</th>\n",
       "      <td>3.7%</td>\n",
       "      <td>4.7%</td>\n",
       "      <td>6.7%</td>\n",
       "      <td>9.0%</td>\n",
       "      <td>11.4%</td>\n",
       "    </tr>\n",
       "    <tr>\n",
       "      <th>UHS</th>\n",
       "      <td>38.4%</td>\n",
       "      <td>36.6%</td>\n",
       "      <td>35.9%</td>\n",
       "      <td>47.4%</td>\n",
       "      <td>51.8%</td>\n",
       "    </tr>\n",
       "  </tbody>\n",
       "</table>\n",
       "</div>"
      ],
      "text/plain": [
       "discharge_dt       2009   2010   2011   2012   2013\n",
       "uhs_at_discharge                                   \n",
       "non-UHS            3.7%   4.7%   6.7%   9.0%  11.4%\n",
       "UHS               38.4%  36.6%  35.9%  47.4%  51.8%"
      ]
     },
     "execution_count": 44,
     "metadata": {},
     "output_type": "execute_result"
    }
   ],
   "source": [
    "discharges.groupby([\n",
    "    \"uhs_at_discharge\",\n",
    "    discharges[\"discharge_dt\"].dt.year.apply(int)\n",
    "])[\"diagnoses_incl_si\"].mean().round(3).unstack()\\\n",
    "    .rename(index={ False: \"non-UHS\", True: \"UHS\" })\\\n",
    "    .pipe(percentify)"
   ]
  },
  {
   "cell_type": "markdown",
   "metadata": {},
   "source": [
    "*From the table above: 51.8% / 11.4% = 4.54*"
   ]
  },
  {
   "cell_type": "markdown",
   "metadata": {},
   "source": [
    "By UHS vs. non-UHS, among first 10 diagnoses:"
   ]
  },
  {
   "cell_type": "code",
   "execution_count": 45,
   "metadata": {
    "collapsed": false
   },
   "outputs": [
    {
     "data": {
      "text/html": [
       "<div>\n",
       "<table border=\"1\" class=\"dataframe\">\n",
       "  <thead>\n",
       "    <tr style=\"text-align: right;\">\n",
       "      <th>discharge_dt</th>\n",
       "      <th>2009</th>\n",
       "      <th>2010</th>\n",
       "      <th>2011</th>\n",
       "      <th>2012</th>\n",
       "      <th>2013</th>\n",
       "    </tr>\n",
       "    <tr>\n",
       "      <th>uhs_at_discharge</th>\n",
       "      <th></th>\n",
       "      <th></th>\n",
       "      <th></th>\n",
       "      <th></th>\n",
       "      <th></th>\n",
       "    </tr>\n",
       "  </thead>\n",
       "  <tbody>\n",
       "    <tr>\n",
       "      <th>non-UHS</th>\n",
       "      <td>3.7%</td>\n",
       "      <td>4.7%</td>\n",
       "      <td>6.3%</td>\n",
       "      <td>8.4%</td>\n",
       "      <td>10.7%</td>\n",
       "    </tr>\n",
       "    <tr>\n",
       "      <th>UHS</th>\n",
       "      <td>38.4%</td>\n",
       "      <td>36.6%</td>\n",
       "      <td>33.8%</td>\n",
       "      <td>44.3%</td>\n",
       "      <td>50.1%</td>\n",
       "    </tr>\n",
       "  </tbody>\n",
       "</table>\n",
       "</div>"
      ],
      "text/plain": [
       "discharge_dt       2009   2010   2011   2012   2013\n",
       "uhs_at_discharge                                   \n",
       "non-UHS            3.7%   4.7%   6.3%   8.4%  10.7%\n",
       "UHS               38.4%  36.6%  33.8%  44.3%  50.1%"
      ]
     },
     "execution_count": 45,
     "metadata": {},
     "output_type": "execute_result"
    }
   ],
   "source": [
    "discharges.groupby([\n",
    "    \"uhs_at_discharge\",\n",
    "    discharges[\"discharge_dt\"].dt.year.apply(int)\n",
    "])[\"diagnoses_incl_si_10\"].mean().round(3).unstack()\\\n",
    "    .rename(index={ False: \"non-UHS\", True: \"UHS\" })\\\n",
    "    .pipe(percentify)"
   ]
  },
  {
   "cell_type": "markdown",
   "metadata": {},
   "source": [
    "*From the table above: 50.1% / 10.7% = 4.68*"
   ]
  },
  {
   "cell_type": "markdown",
   "metadata": {},
   "source": [
    "### Examining geography\n",
    "\n",
    "The first two digits of each provider's CMS Certification Number identify the state where that provider is located. Do geographical differences explain the difference between UHS and non-UHS SI rates on Medicare claims? It appears not:"
   ]
  },
  {
   "cell_type": "code",
   "execution_count": 46,
   "metadata": {
    "collapsed": true
   },
   "outputs": [],
   "source": [
    "discharges[\"state_code\"] = discharges[\"PROVIDER\"].str.slice(0, 2)"
   ]
  },
  {
   "cell_type": "code",
   "execution_count": 47,
   "metadata": {
    "collapsed": false
   },
   "outputs": [
    {
     "data": {
      "text/plain": [
       "Index(['04', '05', '06', '10', '11', '14', '15', '18', '19', '22', '23', '29',\n",
       "       '31', '36', '39', '44', '45', '49'],\n",
       "      dtype='object', name='state_code')"
      ]
     },
     "execution_count": 47,
     "metadata": {},
     "output_type": "execute_result"
    }
   ],
   "source": [
    "largest_states = discharges[\n",
    "    (discharges[\"discharge_dt\"].dt.year == 2013)\n",
    "].groupby([\"state_code\", \"uhs_at_discharge\"]).size().unstack()\\\n",
    "    .fillna(0).min(axis=1).pipe(lambda x: x[x >= 1000]).index\n",
    "largest_states"
   ]
  },
  {
   "cell_type": "code",
   "execution_count": 48,
   "metadata": {
    "collapsed": false
   },
   "outputs": [
    {
     "data": {
      "text/html": [
       "<div>\n",
       "<table border=\"1\" class=\"dataframe\">\n",
       "  <thead>\n",
       "    <tr style=\"text-align: right;\">\n",
       "      <th>uhs_at_discharge</th>\n",
       "      <th>non-UHS</th>\n",
       "      <th>UHS</th>\n",
       "      <th>diff</th>\n",
       "    </tr>\n",
       "    <tr>\n",
       "      <th>state_code</th>\n",
       "      <th></th>\n",
       "      <th></th>\n",
       "      <th></th>\n",
       "    </tr>\n",
       "  </thead>\n",
       "  <tbody>\n",
       "    <tr>\n",
       "      <th>23</th>\n",
       "      <td>6.5%</td>\n",
       "      <td>69.3%</td>\n",
       "      <td>62.8%</td>\n",
       "    </tr>\n",
       "    <tr>\n",
       "      <th>04</th>\n",
       "      <td>0.5%</td>\n",
       "      <td>57.1%</td>\n",
       "      <td>56.6%</td>\n",
       "    </tr>\n",
       "    <tr>\n",
       "      <th>06</th>\n",
       "      <td>4.6%</td>\n",
       "      <td>60.6%</td>\n",
       "      <td>56.0%</td>\n",
       "    </tr>\n",
       "    <tr>\n",
       "      <th>39</th>\n",
       "      <td>12.0%</td>\n",
       "      <td>67.2%</td>\n",
       "      <td>55.2%</td>\n",
       "    </tr>\n",
       "    <tr>\n",
       "      <th>15</th>\n",
       "      <td>6.1%</td>\n",
       "      <td>54.7%</td>\n",
       "      <td>48.6%</td>\n",
       "    </tr>\n",
       "    <tr>\n",
       "      <th>29</th>\n",
       "      <td>20.4%</td>\n",
       "      <td>68.1%</td>\n",
       "      <td>47.7%</td>\n",
       "    </tr>\n",
       "    <tr>\n",
       "      <th>44</th>\n",
       "      <td>1.9%</td>\n",
       "      <td>49.3%</td>\n",
       "      <td>47.4%</td>\n",
       "    </tr>\n",
       "    <tr>\n",
       "      <th>45</th>\n",
       "      <td>9.2%</td>\n",
       "      <td>56.3%</td>\n",
       "      <td>47.1%</td>\n",
       "    </tr>\n",
       "    <tr>\n",
       "      <th>10</th>\n",
       "      <td>3.5%</td>\n",
       "      <td>47.4%</td>\n",
       "      <td>43.9%</td>\n",
       "    </tr>\n",
       "    <tr>\n",
       "      <th>22</th>\n",
       "      <td>9.5%</td>\n",
       "      <td>51.3%</td>\n",
       "      <td>41.8%</td>\n",
       "    </tr>\n",
       "    <tr>\n",
       "      <th>18</th>\n",
       "      <td>0.1%</td>\n",
       "      <td>37.9%</td>\n",
       "      <td>37.8%</td>\n",
       "    </tr>\n",
       "    <tr>\n",
       "      <th>49</th>\n",
       "      <td>4.0%</td>\n",
       "      <td>41.7%</td>\n",
       "      <td>37.7%</td>\n",
       "    </tr>\n",
       "    <tr>\n",
       "      <th>05</th>\n",
       "      <td>22.9%</td>\n",
       "      <td>57.3%</td>\n",
       "      <td>34.4%</td>\n",
       "    </tr>\n",
       "    <tr>\n",
       "      <th>11</th>\n",
       "      <td>14.0%</td>\n",
       "      <td>46.6%</td>\n",
       "      <td>32.6%</td>\n",
       "    </tr>\n",
       "    <tr>\n",
       "      <th>36</th>\n",
       "      <td>5.8%</td>\n",
       "      <td>37.3%</td>\n",
       "      <td>31.5%</td>\n",
       "    </tr>\n",
       "    <tr>\n",
       "      <th>31</th>\n",
       "      <td>6.1%</td>\n",
       "      <td>34.1%</td>\n",
       "      <td>28.0%</td>\n",
       "    </tr>\n",
       "    <tr>\n",
       "      <th>14</th>\n",
       "      <td>27.6%</td>\n",
       "      <td>49.9%</td>\n",
       "      <td>22.3%</td>\n",
       "    </tr>\n",
       "    <tr>\n",
       "      <th>19</th>\n",
       "      <td>11.1%</td>\n",
       "      <td>29.9%</td>\n",
       "      <td>18.8%</td>\n",
       "    </tr>\n",
       "  </tbody>\n",
       "</table>\n",
       "</div>"
      ],
      "text/plain": [
       "uhs_at_discharge non-UHS    UHS   diff\n",
       "state_code                            \n",
       "23                  6.5%  69.3%  62.8%\n",
       "04                  0.5%  57.1%  56.6%\n",
       "06                  4.6%  60.6%  56.0%\n",
       "39                 12.0%  67.2%  55.2%\n",
       "15                  6.1%  54.7%  48.6%\n",
       "29                 20.4%  68.1%  47.7%\n",
       "44                  1.9%  49.3%  47.4%\n",
       "45                  9.2%  56.3%  47.1%\n",
       "10                  3.5%  47.4%  43.9%\n",
       "22                  9.5%  51.3%  41.8%\n",
       "18                  0.1%  37.9%  37.8%\n",
       "49                  4.0%  41.7%  37.7%\n",
       "05                 22.9%  57.3%  34.4%\n",
       "11                 14.0%  46.6%  32.6%\n",
       "36                  5.8%  37.3%  31.5%\n",
       "31                  6.1%  34.1%  28.0%\n",
       "14                 27.6%  49.9%  22.3%\n",
       "19                 11.1%  29.9%  18.8%"
      ]
     },
     "execution_count": 48,
     "metadata": {},
     "output_type": "execute_result"
    }
   ],
   "source": [
    "discharges[\n",
    "    (discharges[\"discharge_dt\"].dt.year == 2013) &\n",
    "    (discharges[\"state_code\"].isin(largest_states))\n",
    "].groupby([\n",
    "    \"uhs_at_discharge\",\n",
    "    \"state_code\"\n",
    "])[\"diagnoses_incl_si\"].mean().round(3).unstack()\\\n",
    "    .rename(index={ False: \"non-UHS\", True: \"UHS\" }).T\\\n",
    "    .assign(diff=lambda x: x[\"UHS\"] - x[\"non-UHS\"])\\\n",
    "    .sort_values(\"diff\", ascending=False)\\\n",
    "    .pipe(percentify)"
   ]
  },
  {
   "cell_type": "markdown",
   "metadata": {},
   "source": [
    "### Proportion of `DRG 885` stays that included a suicidal ideation diagnosis code, by year of discharge:\n",
    "\n",
    "Same tables as above, but only including discharges of patients whose diagnoses, under Medicare's Diagnosis Related Group system, were classified as \"psychoses\"."
   ]
  },
  {
   "cell_type": "markdown",
   "metadata": {},
   "source": [
    "Among all diagnoses listed:"
   ]
  },
  {
   "cell_type": "code",
   "execution_count": 49,
   "metadata": {
    "collapsed": false
   },
   "outputs": [
    {
     "data": {
      "text/html": [
       "<div>\n",
       "<table border=\"1\" class=\"dataframe\">\n",
       "  <thead>\n",
       "    <tr style=\"text-align: right;\">\n",
       "      <th>discharge_dt</th>\n",
       "      <th>2009</th>\n",
       "      <th>2010</th>\n",
       "      <th>2011</th>\n",
       "      <th>2012</th>\n",
       "      <th>2013</th>\n",
       "    </tr>\n",
       "    <tr>\n",
       "      <th>ownership_at_discharge</th>\n",
       "      <th></th>\n",
       "      <th></th>\n",
       "      <th></th>\n",
       "      <th></th>\n",
       "      <th></th>\n",
       "    </tr>\n",
       "  </thead>\n",
       "  <tbody>\n",
       "    <tr>\n",
       "      <th>uhs_non_psi</th>\n",
       "      <td>43.1%</td>\n",
       "      <td>46.9%</td>\n",
       "      <td>50.8%</td>\n",
       "      <td>56.0%</td>\n",
       "      <td>59.0%</td>\n",
       "    </tr>\n",
       "    <tr>\n",
       "      <th>uhs_psi</th>\n",
       "      <td></td>\n",
       "      <td>4.8%</td>\n",
       "      <td>32.3%</td>\n",
       "      <td>51.3%</td>\n",
       "      <td>59.2%</td>\n",
       "    </tr>\n",
       "    <tr>\n",
       "      <th>psi_pre_uhs</th>\n",
       "      <td>4.0%</td>\n",
       "      <td>4.3%</td>\n",
       "      <td></td>\n",
       "      <td></td>\n",
       "      <td></td>\n",
       "    </tr>\n",
       "    <tr>\n",
       "      <th>proprietary</th>\n",
       "      <td>4.8%</td>\n",
       "      <td>7.0%</td>\n",
       "      <td>9.3%</td>\n",
       "      <td>14.0%</td>\n",
       "      <td>17.9%</td>\n",
       "    </tr>\n",
       "    <tr>\n",
       "      <th>nonprofit</th>\n",
       "      <td>7.3%</td>\n",
       "      <td>8.4%</td>\n",
       "      <td>11.3%</td>\n",
       "      <td>12.8%</td>\n",
       "      <td>14.4%</td>\n",
       "    </tr>\n",
       "    <tr>\n",
       "      <th>government</th>\n",
       "      <td>0.6%</td>\n",
       "      <td>0.6%</td>\n",
       "      <td>0.9%</td>\n",
       "      <td>0.9%</td>\n",
       "      <td>1.3%</td>\n",
       "    </tr>\n",
       "  </tbody>\n",
       "</table>\n",
       "</div>"
      ],
      "text/plain": [
       "discharge_dt             2009   2010   2011   2012   2013\n",
       "ownership_at_discharge                                   \n",
       "uhs_non_psi             43.1%  46.9%  50.8%  56.0%  59.0%\n",
       "uhs_psi                         4.8%  32.3%  51.3%  59.2%\n",
       "psi_pre_uhs              4.0%   4.3%                     \n",
       "proprietary              4.8%   7.0%   9.3%  14.0%  17.9%\n",
       "nonprofit                7.3%   8.4%  11.3%  12.8%  14.4%\n",
       "government               0.6%   0.6%   0.9%   0.9%   1.3%"
      ]
     },
     "execution_count": 49,
     "metadata": {},
     "output_type": "execute_result"
    }
   ],
   "source": [
    "discharges[\n",
    "    discharges[\"is_drg_885\"] == True\n",
    "].groupby([\n",
    "    \"ownership_at_discharge\",\n",
    "    discharges[\"discharge_dt\"].dt.year.apply(int)\n",
    "])[\"diagnoses_incl_si\"].mean().round(3).unstack().pipe(percentify).loc[OWNERSHIP_ORDER]"
   ]
  },
  {
   "cell_type": "markdown",
   "metadata": {},
   "source": [
    "Among the first 10 diagnoses listed:"
   ]
  },
  {
   "cell_type": "code",
   "execution_count": 50,
   "metadata": {
    "collapsed": false
   },
   "outputs": [
    {
     "data": {
      "text/html": [
       "<div>\n",
       "<table border=\"1\" class=\"dataframe\">\n",
       "  <thead>\n",
       "    <tr style=\"text-align: right;\">\n",
       "      <th>discharge_dt</th>\n",
       "      <th>2009</th>\n",
       "      <th>2010</th>\n",
       "      <th>2011</th>\n",
       "      <th>2012</th>\n",
       "      <th>2013</th>\n",
       "    </tr>\n",
       "    <tr>\n",
       "      <th>ownership_at_discharge</th>\n",
       "      <th></th>\n",
       "      <th></th>\n",
       "      <th></th>\n",
       "      <th></th>\n",
       "      <th></th>\n",
       "    </tr>\n",
       "  </thead>\n",
       "  <tbody>\n",
       "    <tr>\n",
       "      <th>uhs_non_psi</th>\n",
       "      <td>43.1%</td>\n",
       "      <td>46.9%</td>\n",
       "      <td>50.6%</td>\n",
       "      <td>55.7%</td>\n",
       "      <td>58.3%</td>\n",
       "    </tr>\n",
       "    <tr>\n",
       "      <th>uhs_psi</th>\n",
       "      <td></td>\n",
       "      <td>4.8%</td>\n",
       "      <td>28.4%</td>\n",
       "      <td>45.2%</td>\n",
       "      <td>56.7%</td>\n",
       "    </tr>\n",
       "    <tr>\n",
       "      <th>psi_pre_uhs</th>\n",
       "      <td>4.0%</td>\n",
       "      <td>4.3%</td>\n",
       "      <td></td>\n",
       "      <td></td>\n",
       "      <td></td>\n",
       "    </tr>\n",
       "    <tr>\n",
       "      <th>proprietary</th>\n",
       "      <td>4.8%</td>\n",
       "      <td>7.0%</td>\n",
       "      <td>9.0%</td>\n",
       "      <td>13.6%</td>\n",
       "      <td>17.4%</td>\n",
       "    </tr>\n",
       "    <tr>\n",
       "      <th>nonprofit</th>\n",
       "      <td>7.3%</td>\n",
       "      <td>8.4%</td>\n",
       "      <td>10.0%</td>\n",
       "      <td>11.2%</td>\n",
       "      <td>12.5%</td>\n",
       "    </tr>\n",
       "    <tr>\n",
       "      <th>government</th>\n",
       "      <td>0.6%</td>\n",
       "      <td>0.6%</td>\n",
       "      <td>0.9%</td>\n",
       "      <td>0.9%</td>\n",
       "      <td>1.3%</td>\n",
       "    </tr>\n",
       "  </tbody>\n",
       "</table>\n",
       "</div>"
      ],
      "text/plain": [
       "discharge_dt             2009   2010   2011   2012   2013\n",
       "ownership_at_discharge                                   \n",
       "uhs_non_psi             43.1%  46.9%  50.6%  55.7%  58.3%\n",
       "uhs_psi                         4.8%  28.4%  45.2%  56.7%\n",
       "psi_pre_uhs              4.0%   4.3%                     \n",
       "proprietary              4.8%   7.0%   9.0%  13.6%  17.4%\n",
       "nonprofit                7.3%   8.4%  10.0%  11.2%  12.5%\n",
       "government               0.6%   0.6%   0.9%   0.9%   1.3%"
      ]
     },
     "execution_count": 50,
     "metadata": {},
     "output_type": "execute_result"
    }
   ],
   "source": [
    "discharges[\n",
    "    discharges[\"is_drg_885\"] == True\n",
    "].groupby([\n",
    "    \"ownership_at_discharge\",\n",
    "    discharges[\"discharge_dt\"].dt.year.apply(int)\n",
    "])[\"diagnoses_incl_si_10\"].mean().round(3).unstack().pipe(percentify).loc[OWNERSHIP_ORDER]"
   ]
  },
  {
   "cell_type": "markdown",
   "metadata": {},
   "source": [
    "By UHS vs. non-UHS, among first 10 diagnoses listed:"
   ]
  },
  {
   "cell_type": "code",
   "execution_count": 51,
   "metadata": {
    "collapsed": false
   },
   "outputs": [
    {
     "data": {
      "text/html": [
       "<div>\n",
       "<table border=\"1\" class=\"dataframe\">\n",
       "  <thead>\n",
       "    <tr style=\"text-align: right;\">\n",
       "      <th>discharge_dt</th>\n",
       "      <th>2009</th>\n",
       "      <th>2010</th>\n",
       "      <th>2011</th>\n",
       "      <th>2012</th>\n",
       "      <th>2013</th>\n",
       "    </tr>\n",
       "    <tr>\n",
       "      <th>uhs_at_discharge</th>\n",
       "      <th></th>\n",
       "      <th></th>\n",
       "      <th></th>\n",
       "      <th></th>\n",
       "      <th></th>\n",
       "    </tr>\n",
       "  </thead>\n",
       "  <tbody>\n",
       "    <tr>\n",
       "      <th>non-UHS</th>\n",
       "      <td>4.4%</td>\n",
       "      <td>5.6%</td>\n",
       "      <td>7.6%</td>\n",
       "      <td>10.4%</td>\n",
       "      <td>13.0%</td>\n",
       "    </tr>\n",
       "    <tr>\n",
       "      <th>UHS</th>\n",
       "      <td>43.1%</td>\n",
       "      <td>41.4%</td>\n",
       "      <td>38.5%</td>\n",
       "      <td>50.2%</td>\n",
       "      <td>57.5%</td>\n",
       "    </tr>\n",
       "  </tbody>\n",
       "</table>\n",
       "</div>"
      ],
      "text/plain": [
       "discharge_dt       2009   2010   2011   2012   2013\n",
       "uhs_at_discharge                                   \n",
       "non-UHS            4.4%   5.6%   7.6%  10.4%  13.0%\n",
       "UHS               43.1%  41.4%  38.5%  50.2%  57.5%"
      ]
     },
     "execution_count": 51,
     "metadata": {},
     "output_type": "execute_result"
    }
   ],
   "source": [
    "discharges[\n",
    "    discharges[\"is_drg_885\"] == True\n",
    "].groupby([\n",
    "    \"uhs_at_discharge\",\n",
    "    discharges[\"discharge_dt\"].dt.year.apply(int)\n",
    "])[\"diagnoses_incl_si_10\"].mean().round(3).unstack()\\\n",
    "    .rename(index={ False: \"non-UHS\", True: \"UHS\" })\\\n",
    "    .pipe(percentify)"
   ]
  },
  {
   "cell_type": "markdown",
   "metadata": {},
   "source": [
    "## Summarizing the suicidal ideation findings in a single chart"
   ]
  },
  {
   "cell_type": "code",
   "execution_count": 52,
   "metadata": {
    "collapsed": true
   },
   "outputs": [],
   "source": [
    "def percentify_yaxis(ax):\n",
    "    ax.set_yticklabels([ \"{0:.0f}%\".format(y * 100) for y in ax.get_yticks() ])\n",
    "\n",
    "def format_chart(ax):\n",
    "    ax.legend(fontsize=10, loc=\"upper left\")\n",
    "    ax.set_xlabel(\"Discharge date\", fontsize=14)\n",
    "    percentify_yaxis(ax)"
   ]
  },
  {
   "cell_type": "markdown",
   "metadata": {},
   "source": [
    "Among all diagnoses listed:"
   ]
  },
  {
   "cell_type": "code",
   "execution_count": 53,
   "metadata": {
    "collapsed": false
   },
   "outputs": [
    {
     "data": {
      "image/png": "[encoded data removed]",
      "text/plain": [
       "<matplotlib.figure.Figure at 0x11b949c18>"
      ]
     },
     "metadata": {},
     "output_type": "display_data"
    }
   ],
   "source": [
    "# Plot UHS and PSI\n",
    "data = discharges[\n",
    "    discharges[\"uhs_at_discharge\"] |\n",
    "    discharges[\"psi_at_discharge\"]\n",
    "].groupby([\n",
    "    \"psi_at_discharge\",\n",
    "]).apply(lambda x: get_si_rate(x, \"MS\")).T.rename(columns={\n",
    "    False: \"UHS (excl. PSI)\",\n",
    "    True: \"PSI (UHS purchased Nov. 2010)\"\n",
    "})\n",
    "data[\"Other\"] = discharges[\n",
    "    ~(discharges[\"uhs_at_discharge\"] |\n",
    "    discharges[\"psi_at_discharge\"])\n",
    "].pipe(lambda x: get_si_rate(x, \"MS\"))\n",
    "\n",
    "ax = data.plot(figsize=(10, 6), lw=2, color=sb.color_palette()[:2] + [\"gray\"])\n",
    "\n",
    "# Add line representing PSI acquisition date\n",
    "ax.vlines(PSI_ACQUISITION_DATE, 0, 0.6, lw=1, color=\"red\")\n",
    "format_chart(ax)\n",
    "ax.set_title(\"Suicidal ideation diagnosis coding rate in Medicare claims\", fontsize=14)\n",
    "pass"
   ]
  },
  {
   "cell_type": "markdown",
   "metadata": {},
   "source": [
    "Among only the first 10 diagnoses listed, which doesn't substantially alter the trend:"
   ]
  },
  {
   "cell_type": "code",
   "execution_count": 54,
   "metadata": {
    "collapsed": false
   },
   "outputs": [
    {
     "data": {
      "image/png": "[encoded data removed]",
      "text/plain": [
       "<matplotlib.figure.Figure at 0x11b966080>"
      ]
     },
     "metadata": {},
     "output_type": "display_data"
    }
   ],
   "source": [
    "# Plot UHS and PSI\n",
    "ax = discharges[\n",
    "    discharges[\"uhs_at_discharge\"] |\n",
    "    discharges[\"psi_at_discharge\"]\n",
    "].groupby([\n",
    "    \"psi_at_discharge\",\n",
    "]).apply(lambda x: get_si_rate(x, \"MS\", \"diagnoses_incl_si_10\")).T.rename(columns={\n",
    "    False: \"Core UHS\",\n",
    "    True: \"PSI (UHS purchased Nov. 2010)\"\n",
    "}).plot(figsize=(10, 6), lw=2)\n",
    "\n",
    "# Plot all other hospitals\n",
    "discharges[\n",
    "    ~(discharges[\"uhs_at_discharge\"] |\n",
    "    discharges[\"psi_at_discharge\"])\n",
    "].pipe(lambda x: get_si_rate(x, \"MS\", \"diagnoses_incl_si_10\"))\\\n",
    "    .plot(ax=ax, lw=2, alpha=0.5, color=\"black\", label=\"All other hospitals\")\n",
    "\n",
    "# Add line representing PSI acquisition date\n",
    "ax.vlines(PSI_ACQUISITION_DATE, 0, 0.6, lw=1, color=\"red\")\n",
    "format_chart(ax)\n",
    "ax.set_title(\"Suicidal ideation diagnosis coding rate (within first 10 diagnoses) in Medicare claims\", fontsize=14)\n",
    "pass"
   ]
  },
  {
   "cell_type": "markdown",
   "metadata": {},
   "source": [
    "---\n",
    "\n",
    "# River Point analysis\n",
    "\n",
    "The analysis below focuses on Medicare claims filed by River Point Behavioral Health facility in Jacksonville, Florida."
   ]
  },
  {
   "cell_type": "code",
   "execution_count": 55,
   "metadata": {
    "collapsed": true
   },
   "outputs": [],
   "source": [
    "river_point = discharges[\n",
    "    discharges[\"PROVIDER\"] == \"104016\" # 104016 is River Point's CMS certification number\n",
    "].copy()"
   ]
  },
  {
   "cell_type": "markdown",
   "metadata": {},
   "source": [
    "Calcultate length of stay, in days:"
   ]
  },
  {
   "cell_type": "code",
   "execution_count": 56,
   "metadata": {
    "collapsed": false
   },
   "outputs": [],
   "source": [
    "river_point[\"length_of_stay\"] = (river_point[\"discharge_dt\"] - river_point[\"admission_dt\"]).dt.days"
   ]
  },
  {
   "cell_type": "code",
   "execution_count": 57,
   "metadata": {
    "collapsed": false
   },
   "outputs": [
    {
     "data": {
      "image/png": "[encoded data removed]",
      "text/plain": [
       "<matplotlib.figure.Figure at 0x1127ef7b8>"
      ]
     },
     "metadata": {},
     "output_type": "display_data"
    }
   ],
   "source": [
    "ax = river_point.set_index(\"discharge_dt\")\\\n",
    "    .resample(\"MS\")[\"length_of_stay\"].mean()\\\n",
    "    .plot(marker=\".\", markersize=8, ylim=(0, None))\n",
    "ax.set_title(\"River Point: Average LOS (days) for Medicare patients\")\n",
    "ax.set_xlabel(\"Month of discharge\")\n",
    "pass"
   ]
  },
  {
   "cell_type": "code",
   "execution_count": 58,
   "metadata": {
    "collapsed": false
   },
   "outputs": [
    {
     "data": {
      "image/png": "[encoded data removed]",
      "text/plain": [
       "<matplotlib.figure.Figure at 0x11294add8>"
      ]
     },
     "metadata": {},
     "output_type": "display_data"
    }
   ],
   "source": [
    "data = river_point.set_index(\"discharge_dt\")\\\n",
    "    .resample(\"MS\")[\"length_of_stay\"].apply(lambda x: (x >= 10).mean())\n",
    "ax = data.plot(marker=\"o\", markersize=4, ylim=(0, None))\n",
    "ax.set_title(\"River Point: % of Medicare patients kept 10 days or longer\")\n",
    "ax.set_xlabel(\"Month of discharge\")\n",
    "percentify_yaxis(ax)\n",
    "pass"
   ]
  },
  {
   "cell_type": "markdown",
   "metadata": {},
   "source": [
    "### Averages by period\n",
    "\n",
    "The analysis below groups River Point discharges into four categories, based on time period:\n",
    "\n",
    "- Jan. 2009 - June 2009:  __2009, first half__\n",
    "- July 2009 - Dec. 2009: __2009, second half__\n",
    "- Jan. 2010 – Jun. 2010: __2010, first half__\n",
    "- Jul. 2010 - Dec. 2013: __July 2010–2013__\n"
   ]
  },
  {
   "cell_type": "code",
   "execution_count": 59,
   "metadata": {
    "collapsed": true
   },
   "outputs": [],
   "source": [
    "def label_river_point_period(date):\n",
    "    if date.date() < datetime.date(2009, 7, 1): return \"2009, first half\"\n",
    "    if date.date() < datetime.date(2010, 1, 1): return \"2009, second half\"\n",
    "    if date.date() < datetime.date(2010, 7, 1): return \"2010, first half\"\n",
    "    return \"July 2010–2013\""
   ]
  },
  {
   "cell_type": "code",
   "execution_count": 60,
   "metadata": {
    "collapsed": false
   },
   "outputs": [],
   "source": [
    "river_point[\"period\"] = river_point[\"discharge_dt\"].apply(label_river_point_period)"
   ]
  },
  {
   "cell_type": "code",
   "execution_count": 61,
   "metadata": {
    "collapsed": false
   },
   "outputs": [
    {
     "data": {
      "text/html": [
       "<div>\n",
       "<table border=\"1\" class=\"dataframe\">\n",
       "  <thead>\n",
       "    <tr style=\"text-align: right;\">\n",
       "      <th></th>\n",
       "      <th>average_length_of_stay</th>\n",
       "      <th>proportion_10_days_plus</th>\n",
       "    </tr>\n",
       "    <tr>\n",
       "      <th>period</th>\n",
       "      <th></th>\n",
       "      <th></th>\n",
       "    </tr>\n",
       "  </thead>\n",
       "  <tbody>\n",
       "    <tr>\n",
       "      <th>2009, first half</th>\n",
       "      <td>9.4</td>\n",
       "      <td>0.370</td>\n",
       "    </tr>\n",
       "    <tr>\n",
       "      <th>2009, second half</th>\n",
       "      <td>12.7</td>\n",
       "      <td>0.608</td>\n",
       "    </tr>\n",
       "    <tr>\n",
       "      <th>2010, first half</th>\n",
       "      <td>13.9</td>\n",
       "      <td>0.735</td>\n",
       "    </tr>\n",
       "    <tr>\n",
       "      <th>July 2010–2013</th>\n",
       "      <td>13.8</td>\n",
       "      <td>0.701</td>\n",
       "    </tr>\n",
       "  </tbody>\n",
       "</table>\n",
       "</div>"
      ],
      "text/plain": [
       "                   average_length_of_stay  proportion_10_days_plus\n",
       "period                                                            \n",
       "2009, first half                      9.4                    0.370\n",
       "2009, second half                    12.7                    0.608\n",
       "2010, first half                     13.9                    0.735\n",
       "July 2010–2013                       13.8                    0.701"
      ]
     },
     "execution_count": 61,
     "metadata": {},
     "output_type": "execute_result"
    }
   ],
   "source": [
    "grp = river_point.groupby(\"period\")\n",
    "pd.DataFrame({\n",
    "    \"average_length_of_stay\": grp[\"length_of_stay\"].mean().round(1),\n",
    "    \"proportion_10_days_plus\": grp[\"length_of_stay\"].apply(lambda x: (x >= 10).mean()).round(3)\n",
    "})"
   ]
  },
  {
   "cell_type": "markdown",
   "metadata": {
    "collapsed": true
   },
   "source": [
    "---\n",
    "\n",
    "---\n",
    "\n",
    "---"
   ]
  }
 ],
 "metadata": {
  "kernelspec": {
   "display_name": "Python 3",
   "language": "python",
   "name": "python3"
  },
  "language_info": {
   "codemirror_mode": {
    "name": "ipython",
    "version": 3
   },
   "file_extension": ".py",
   "mimetype": "text/x-python",
   "name": "python",
   "nbconvert_exporter": "python",
   "pygments_lexer": "ipython3",
   "version": "3.4.3"
  }
 },
 "nbformat": 4,
 "nbformat_minor": 0
}
